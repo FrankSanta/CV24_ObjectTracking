{
 "cells": [
  {
   "cell_type": "code",
   "execution_count": null,
   "metadata": {},
   "outputs": [
    {
     "name": "stdout",
     "output_type": "stream",
     "text": [
      "Loading Object Detection\n",
      "Running opencv dnn with YOLOv4\n"
     ]
    },
    {
     "name": "stderr",
     "output_type": "stream",
     "text": [
      "[ WARN:0@1.784] global net_impl.cpp:178 setUpNet DNN module was not built with CUDA backend; switching to CPU\n"
     ]
    },
    {
     "ename": "ValueError",
     "evalue": "operands could not be broadcast together with shapes (0,) (1,3) ",
     "output_type": "error",
     "traceback": [
      "\u001b[0;31m---------------------------------------------------------------------------\u001b[0m",
      "\u001b[0;31mValueError\u001b[0m                                Traceback (most recent call last)",
      "Cell \u001b[0;32mIn[1], line 57\u001b[0m\n\u001b[1;32m     54\u001b[0m     detections\u001b[38;5;241m.\u001b[39mappend([x1, y1, x2, y2, score])\n\u001b[1;32m     56\u001b[0m \u001b[38;5;66;03m# Update SORT tracker\u001b[39;00m\n\u001b[0;32m---> 57\u001b[0m tracked_objects \u001b[38;5;241m=\u001b[39m \u001b[43mtracker\u001b[49m\u001b[38;5;241;43m.\u001b[39;49m\u001b[43mupdate\u001b[49m\u001b[43m(\u001b[49m\u001b[43mnp\u001b[49m\u001b[38;5;241;43m.\u001b[39;49m\u001b[43marray\u001b[49m\u001b[43m(\u001b[49m\u001b[43mdetections\u001b[49m\u001b[43m)\u001b[49m\u001b[43m)\u001b[49m\n\u001b[1;32m     59\u001b[0m \u001b[38;5;66;03m# Draw tracking results\u001b[39;00m\n\u001b[1;32m     60\u001b[0m \u001b[38;5;28;01mfor\u001b[39;00m obj \u001b[38;5;129;01min\u001b[39;00m tracked_objects:\n",
      "File \u001b[0;32m~/Developer/py/Computer_vision/CV24_ObjectTracking/Object Tracking example/sort.py:268\u001b[0m, in \u001b[0;36mSort.update\u001b[0;34m(self, dets)\u001b[0m\n\u001b[1;32m    266\u001b[0m \u001b[38;5;28;01mfor\u001b[39;00m t \u001b[38;5;129;01min\u001b[39;00m \u001b[38;5;28mreversed\u001b[39m(to_del):\n\u001b[1;32m    267\u001b[0m     \u001b[38;5;28mself\u001b[39m\u001b[38;5;241m.\u001b[39mtrackers\u001b[38;5;241m.\u001b[39mpop(t)\n\u001b[0;32m--> 268\u001b[0m matched, unmatched_dets, unmatched_trks \u001b[38;5;241m=\u001b[39m \u001b[43massociate_detections_to_trackers\u001b[49m\u001b[43m(\u001b[49m\n\u001b[1;32m    269\u001b[0m \u001b[43m    \u001b[49m\u001b[43mdets\u001b[49m\u001b[43m,\u001b[49m\u001b[43m \u001b[49m\u001b[43mtrks\u001b[49m\u001b[43m,\u001b[49m\u001b[43m \u001b[49m\u001b[38;5;28;43mself\u001b[39;49m\u001b[38;5;241;43m.\u001b[39;49m\u001b[43miou_threshold\u001b[49m\n\u001b[1;32m    270\u001b[0m \u001b[43m\u001b[49m\u001b[43m)\u001b[49m\n\u001b[1;32m    272\u001b[0m \u001b[38;5;66;03m# update matched trackers with assigned detections\u001b[39;00m\n\u001b[1;32m    273\u001b[0m \u001b[38;5;28;01mfor\u001b[39;00m m \u001b[38;5;129;01min\u001b[39;00m matched:\n",
      "File \u001b[0;32m~/Developer/py/Computer_vision/CV24_ObjectTracking/Object Tracking example/sort.py:199\u001b[0m, in \u001b[0;36massociate_detections_to_trackers\u001b[0;34m(detections, trackers, iou_threshold)\u001b[0m\n\u001b[1;32m    192\u001b[0m \u001b[38;5;28;01mif\u001b[39;00m \u001b[38;5;28mlen\u001b[39m(trackers) \u001b[38;5;241m==\u001b[39m \u001b[38;5;241m0\u001b[39m:\n\u001b[1;32m    193\u001b[0m     \u001b[38;5;28;01mreturn\u001b[39;00m (\n\u001b[1;32m    194\u001b[0m         np\u001b[38;5;241m.\u001b[39mempty((\u001b[38;5;241m0\u001b[39m, \u001b[38;5;241m2\u001b[39m), dtype\u001b[38;5;241m=\u001b[39m\u001b[38;5;28mint\u001b[39m),\n\u001b[1;32m    195\u001b[0m         np\u001b[38;5;241m.\u001b[39marange(\u001b[38;5;28mlen\u001b[39m(detections)),\n\u001b[1;32m    196\u001b[0m         np\u001b[38;5;241m.\u001b[39mempty((\u001b[38;5;241m0\u001b[39m, \u001b[38;5;241m5\u001b[39m), dtype\u001b[38;5;241m=\u001b[39m\u001b[38;5;28mint\u001b[39m),\n\u001b[1;32m    197\u001b[0m     )\n\u001b[0;32m--> 199\u001b[0m iou_matrix \u001b[38;5;241m=\u001b[39m \u001b[43miou_batch\u001b[49m\u001b[43m(\u001b[49m\u001b[43mdetections\u001b[49m\u001b[43m,\u001b[49m\u001b[43m \u001b[49m\u001b[43mtrackers\u001b[49m\u001b[43m)\u001b[49m\n\u001b[1;32m    201\u001b[0m \u001b[38;5;28;01mif\u001b[39;00m \u001b[38;5;28mmin\u001b[39m(iou_matrix\u001b[38;5;241m.\u001b[39mshape) \u001b[38;5;241m>\u001b[39m \u001b[38;5;241m0\u001b[39m:\n\u001b[1;32m    202\u001b[0m     a \u001b[38;5;241m=\u001b[39m (iou_matrix \u001b[38;5;241m>\u001b[39m iou_threshold)\u001b[38;5;241m.\u001b[39mastype(np\u001b[38;5;241m.\u001b[39mint32)\n",
      "File \u001b[0;32m~/Developer/py/Computer_vision/CV24_ObjectTracking/Object Tracking example/sort.py:58\u001b[0m, in \u001b[0;36miou_batch\u001b[0;34m(bb_test, bb_gt)\u001b[0m\n\u001b[1;32m     55\u001b[0m bb_gt \u001b[38;5;241m=\u001b[39m np\u001b[38;5;241m.\u001b[39mexpand_dims(bb_gt, \u001b[38;5;241m0\u001b[39m)\n\u001b[1;32m     56\u001b[0m bb_test \u001b[38;5;241m=\u001b[39m np\u001b[38;5;241m.\u001b[39mexpand_dims(bb_test, \u001b[38;5;241m1\u001b[39m)\n\u001b[0;32m---> 58\u001b[0m xx1 \u001b[38;5;241m=\u001b[39m \u001b[43mnp\u001b[49m\u001b[38;5;241;43m.\u001b[39;49m\u001b[43mmaximum\u001b[49m\u001b[43m(\u001b[49m\u001b[43mbb_test\u001b[49m\u001b[43m[\u001b[49m\u001b[38;5;241;43m.\u001b[39;49m\u001b[38;5;241;43m.\u001b[39;49m\u001b[38;5;241;43m.\u001b[39;49m\u001b[43m,\u001b[49m\u001b[43m \u001b[49m\u001b[38;5;241;43m0\u001b[39;49m\u001b[43m]\u001b[49m\u001b[43m,\u001b[49m\u001b[43m \u001b[49m\u001b[43mbb_gt\u001b[49m\u001b[43m[\u001b[49m\u001b[38;5;241;43m.\u001b[39;49m\u001b[38;5;241;43m.\u001b[39;49m\u001b[38;5;241;43m.\u001b[39;49m\u001b[43m,\u001b[49m\u001b[43m \u001b[49m\u001b[38;5;241;43m0\u001b[39;49m\u001b[43m]\u001b[49m\u001b[43m)\u001b[49m\n\u001b[1;32m     59\u001b[0m yy1 \u001b[38;5;241m=\u001b[39m np\u001b[38;5;241m.\u001b[39mmaximum(bb_test[\u001b[38;5;241m.\u001b[39m\u001b[38;5;241m.\u001b[39m\u001b[38;5;241m.\u001b[39m, \u001b[38;5;241m1\u001b[39m], bb_gt[\u001b[38;5;241m.\u001b[39m\u001b[38;5;241m.\u001b[39m\u001b[38;5;241m.\u001b[39m, \u001b[38;5;241m1\u001b[39m])\n\u001b[1;32m     60\u001b[0m xx2 \u001b[38;5;241m=\u001b[39m np\u001b[38;5;241m.\u001b[39mminimum(bb_test[\u001b[38;5;241m.\u001b[39m\u001b[38;5;241m.\u001b[39m\u001b[38;5;241m.\u001b[39m, \u001b[38;5;241m2\u001b[39m], bb_gt[\u001b[38;5;241m.\u001b[39m\u001b[38;5;241m.\u001b[39m\u001b[38;5;241m.\u001b[39m, \u001b[38;5;241m2\u001b[39m])\n",
      "\u001b[0;31mValueError\u001b[0m: operands could not be broadcast together with shapes (0,) (1,3) "
     ]
    },
    {
     "ename": "",
     "evalue": "",
     "output_type": "error",
     "traceback": [
      "\u001b[1;31mThe Kernel crashed while executing code in the current cell or a previous cell. \n",
      "\u001b[1;31mPlease review the code in the cell(s) to identify a possible cause of the failure. \n",
      "\u001b[1;31mClick <a href='https://aka.ms/vscodeJupyterKernelCrash'>here</a> for more info. \n",
      "\u001b[1;31mView Jupyter <a href='command:jupyter.viewOutput'>log</a> for further details."
     ]
    }
   ],
   "source": [
    "import cv2\n",
    "import numpy as np\n",
    "from sort import Sort  # Import the SORT tracker\n",
    "\n",
    "class ObjectDetection:\n",
    "    def __init__(self, weights_path=\"dnn_model/yolov4.weights\", cfg_path=\"dnn_model/yolov4.cfg\"):\n",
    "        print(\"Loading Object Detection\")\n",
    "        print(\"Running opencv dnn with YOLOv4\")\n",
    "        self.nmsThreshold = 0.3\n",
    "        self.confThreshold = 0.6\n",
    "        self.image_size = 224  # Adjust as needed\n",
    "\n",
    "        # Load Network\n",
    "        net = cv2.dnn.readNet(weights_path, cfg_path)\n",
    "\n",
    "        # Enable GPU CUDA\n",
    "        net.setPreferableBackend(cv2.dnn.DNN_BACKEND_CUDA)\n",
    "        net.setPreferableTarget(cv2.dnn.DNN_TARGET_CUDA)\n",
    "        self.model = cv2.dnn_DetectionModel(net)\n",
    "\n",
    "        self.model.setInputParams(size=(self.image_size, self.image_size), scale=1 / 255)\n",
    "\n",
    "    def detect(self, frame):\n",
    "        # Detect objects, only retrieve class IDs, scores, and boxes\n",
    "        class_ids, scores, boxes = self.model.detect(frame, nmsThreshold=self.nmsThreshold, confThreshold=self.confThreshold)\n",
    "        return scores, boxes\n",
    "\n",
    "# Initialize Object Detection\n",
    "od = ObjectDetection()\n",
    "cap = cv2.VideoCapture(\"los_angeles.mp4\")\n",
    "if not cap.isOpened():\n",
    "    print(\"Error: Could not open video.\")\n",
    "    exit()\n",
    "\n",
    "# Initialize SORT tracker\n",
    "tracker = Sort()\n",
    "\n",
    "while True:\n",
    "    ret, frame = cap.read()\n",
    "    if not ret:\n",
    "        break\n",
    "    \n",
    "    frame = cv2.resize(frame, (640, 480))  # Resize as needed\n",
    "    \n",
    "    # Detect objects\n",
    "    scores, boxes = od.detect(frame)\n",
    "    \n",
    "    # Prepare detections for SORT\n",
    "    # Format: [[x1, y1, x2, y2, score], ...]\n",
    "    detections = []\n",
    "    for score, box in zip(scores, boxes):\n",
    "        x, y, w, h = box\n",
    "        x1, y1, x2, y2 = x, y, x + w, y + h\n",
    "        detections.append([x1, y1, x2, y2, score])\n",
    "\n",
    "    # Update SORT tracker\n",
    "    tracked_objects = tracker.update(np.array(detections))\n",
    "    \n",
    "    # Draw tracking results\n",
    "    for obj in tracked_objects:\n",
    "        x1, y1, x2, y2, obj_id = obj\n",
    "        cv2.rectangle(frame, (int(x1), int(y1)), (int(x2), int(y2)), (255, 0, 0), 2)\n",
    "        cv2.putText(frame, f\"ID: {int(obj_id)}\", (int(x1), int(y1) - 10), cv2.FONT_HERSHEY_SIMPLEX, 0.6, (255, 0, 0), 2)\n",
    "\n",
    "    cv2.imshow(\"Frame\", frame)\n",
    "\n",
    "    if cv2.waitKey(1) & 0xFF == 27:  # Press Esc to exit\n",
    "        break\n",
    "\n",
    "cap.release()\n",
    "cv2.destroyAllWindows()\n"
   ]
  }
 ],
 "metadata": {
  "kernelspec": {
   "display_name": "vision",
   "language": "python",
   "name": "python3"
  },
  "language_info": {
   "codemirror_mode": {
    "name": "ipython",
    "version": 3
   },
   "file_extension": ".py",
   "mimetype": "text/x-python",
   "name": "python",
   "nbconvert_exporter": "python",
   "pygments_lexer": "ipython3",
   "version": "3.9.20"
  }
 },
 "nbformat": 4,
 "nbformat_minor": 2
}
